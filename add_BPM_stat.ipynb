{
 "cells": [
  {
   "cell_type": "code",
   "execution_count": 2,
   "metadata": {
    "collapsed": true
   },
   "outputs": [],
   "source": [
    "from bs4 import BeautifulSoup\n",
    "import urllib\n",
    "\n",
    "import pandas as pd\n",
    "import numpy as np"
   ]
  },
  {
   "cell_type": "code",
   "execution_count": 26,
   "metadata": {},
   "outputs": [],
   "source": [
    "df_bpm = pd.DataFrame(columns=[\"Name\", \"Year\", \"BPM\"])\n",
    "\n",
    "for year in range(1980, 2018):\n",
    "    url = \"https://www.basketball-reference.com/leagues/NBA_\" + str(year) + \"_advanced.html\"\n",
    "    page = urllib.request.urlopen(url)\n",
    "    soup = BeautifulSoup(page, \"lxml\")\n",
    "    \n",
    "    table = soup.find(lambda tag: tag.name=='table' and tag.has_attr('id') and tag['id']=='advanced_stats')\n",
    "    \n",
    "    rows = table.find_all('tr', class_='full_table')\n",
    "    \n",
    "    for row in rows:\n",
    "        name = (row.find(lambda tag: tag.name=='td' and tag.has_attr('data-stat') and tag['data-stat']=='player')).get_text()\n",
    "        bpm = float((row.find(lambda tag: tag.name=='td' and tag.has_attr('data-stat') and tag['data-stat']=='bpm')).get_text())\n",
    "        df_bpm.loc[df_bpm.shape[0]] = [name, year, bpm]"
   ]
  },
  {
   "cell_type": "code",
   "execution_count": 27,
   "metadata": {},
   "outputs": [
    {
     "data": {
      "text/html": [
       "<div>\n",
       "<style>\n",
       "    .dataframe thead tr:only-child th {\n",
       "        text-align: right;\n",
       "    }\n",
       "\n",
       "    .dataframe thead th {\n",
       "        text-align: left;\n",
       "    }\n",
       "\n",
       "    .dataframe tbody tr th {\n",
       "        vertical-align: top;\n",
       "    }\n",
       "</style>\n",
       "<table border=\"1\" class=\"dataframe\">\n",
       "  <thead>\n",
       "    <tr style=\"text-align: right;\">\n",
       "      <th></th>\n",
       "      <th>Name</th>\n",
       "      <th>Year</th>\n",
       "      <th>BPM</th>\n",
       "    </tr>\n",
       "  </thead>\n",
       "  <tbody>\n",
       "    <tr>\n",
       "      <th>0</th>\n",
       "      <td>Kareem Abdul-Jabbar*</td>\n",
       "      <td>1980</td>\n",
       "      <td>6.7</td>\n",
       "    </tr>\n",
       "    <tr>\n",
       "      <th>1</th>\n",
       "      <td>Tom Abernethy</td>\n",
       "      <td>1980</td>\n",
       "      <td>-1.6</td>\n",
       "    </tr>\n",
       "    <tr>\n",
       "      <th>2</th>\n",
       "      <td>Alvan Adams</td>\n",
       "      <td>1980</td>\n",
       "      <td>4.4</td>\n",
       "    </tr>\n",
       "    <tr>\n",
       "      <th>3</th>\n",
       "      <td>Tiny Archibald*</td>\n",
       "      <td>1980</td>\n",
       "      <td>0.0</td>\n",
       "    </tr>\n",
       "    <tr>\n",
       "      <th>4</th>\n",
       "      <td>Dennis Awtrey</td>\n",
       "      <td>1980</td>\n",
       "      <td>-1.4</td>\n",
       "    </tr>\n",
       "  </tbody>\n",
       "</table>\n",
       "</div>"
      ],
      "text/plain": [
       "                   Name  Year  BPM\n",
       "0  Kareem Abdul-Jabbar*  1980  6.7\n",
       "1         Tom Abernethy  1980 -1.6\n",
       "2           Alvan Adams  1980  4.4\n",
       "3       Tiny Archibald*  1980  0.0\n",
       "4         Dennis Awtrey  1980 -1.4"
      ]
     },
     "execution_count": 27,
     "metadata": {},
     "output_type": "execute_result"
    }
   ],
   "source": [
    "df_bpm.head()"
   ]
  },
  {
   "cell_type": "code",
   "execution_count": 13,
   "metadata": {},
   "outputs": [],
   "source": [
    "df_trad = pd.read_csv('./NBA_stats.csv', index_col=False)\n",
    "df_trad.loc[:,['Year', 'Exp', 'Age', 'Pos', 'G', 'Gs']] = df_trad.loc[:,['Year', 'Exp', 'Age', 'Pos', 'G', 'Gs']].astype(int)"
   ]
  },
  {
   "cell_type": "code",
   "execution_count": 30,
   "metadata": {},
   "outputs": [],
   "source": [
    "df_final = df_trad.merge(df_bpm, how='left', on=['Name', 'Year'])"
   ]
  },
  {
   "cell_type": "code",
   "execution_count": 31,
   "metadata": {
    "collapsed": true
   },
   "outputs": [],
   "source": [
    "df_final.to_csv('NBA_stats_RPM.csv')"
   ]
  },
  {
   "cell_type": "code",
   "execution_count": null,
   "metadata": {
    "collapsed": true
   },
   "outputs": [],
   "source": []
  }
 ],
 "metadata": {
  "kernelspec": {
   "display_name": "Python [conda root]",
   "language": "python",
   "name": "conda-root-py"
  },
  "language_info": {
   "codemirror_mode": {
    "name": "ipython",
    "version": 3
   },
   "file_extension": ".py",
   "mimetype": "text/x-python",
   "name": "python",
   "nbconvert_exporter": "python",
   "pygments_lexer": "ipython3",
   "version": "3.6.2"
  }
 },
 "nbformat": 4,
 "nbformat_minor": 2
}
